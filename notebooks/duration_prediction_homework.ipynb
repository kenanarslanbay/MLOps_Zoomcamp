{
 "cells": [
  {
   "cell_type": "code",
   "execution_count": 1,
   "id": "c9e0009e",
   "metadata": {},
   "outputs": [],
   "source": [
    "import pandas as pd \n",
    "import pickle\n",
    "import seaborn as sns\n",
    "import matplotlib.pyplot as plt \n",
    "\n",
    "from sklearn.feature_extraction import DictVectorizer\n",
    "from sklearn.linear_model import LinearRegression \n",
    "from sklearn.linear_model import Lasso \n",
    "from sklearn.linear_model import Ridge \n",
    "\n",
    "from sklearn.metrics import mean_squared_error"
   ]
  },
  {
   "cell_type": "markdown",
   "id": "aaaf69a5",
   "metadata": {},
   "source": [
    "# Reading data"
   ]
  },
  {
   "cell_type": "code",
   "execution_count": 2,
   "id": "4c87dd91",
   "metadata": {},
   "outputs": [],
   "source": [
    "df_jan = pd.read_parquet(\"data/yellow_tripdata_2022-01.parquet\")\n",
    "\n",
    "df_feb = pd.read_parquet(\"data/yellow_tripdata_2022-02.parquet\")"
   ]
  },
  {
   "cell_type": "markdown",
   "id": "64a735c3",
   "metadata": {},
   "source": [
    "# Question 1: Number of columns in Jan 2022 Yellow Taxi Trip data"
   ]
  },
  {
   "cell_type": "code",
   "execution_count": 8,
   "id": "2e5807b5",
   "metadata": {},
   "outputs": [
    {
     "data": {
      "text/plain": [
       "19"
      ]
     },
     "execution_count": 8,
     "metadata": {},
     "output_type": "execute_result"
    }
   ],
   "source": [
    "len(df_jan.columns)"
   ]
  },
  {
   "cell_type": "code",
   "execution_count": 9,
   "id": "dcb66ec7",
   "metadata": {},
   "outputs": [],
   "source": [
    "# Creating duration(our target column) and converting in to minutes\n",
    "\n",
    "df_jan['duration'] = df_jan.tpep_dropoff_datetime - df_jan.tpep_pickup_datetime\n",
    "\n",
    "df_jan.duration = df_jan.duration.apply(lambda x: x.total_seconds() / 60)"
   ]
  },
  {
   "cell_type": "markdown",
   "id": "fffb796d",
   "metadata": {},
   "source": [
    "# Question 2:  Standard deviation of the trips duration in Jan 2022 Yellow Taxi Trip data"
   ]
  },
  {
   "cell_type": "code",
   "execution_count": 10,
   "id": "1d0edfe1",
   "metadata": {},
   "outputs": [
    {
     "name": "stdout",
     "output_type": "stream",
     "text": [
      "46.45\n"
     ]
    }
   ],
   "source": [
    "print(round(df_jan.duration.std(),2))"
   ]
  },
  {
   "cell_type": "markdown",
   "id": "a31cc5ab",
   "metadata": {},
   "source": [
    "# Question 3: Fraction of the records left after dropping the outliers"
   ]
  },
  {
   "cell_type": "code",
   "execution_count": 11,
   "id": "9b09eed9",
   "metadata": {
    "scrolled": true
   },
   "outputs": [
    {
     "data": {
      "text/plain": [
       "2463931"
      ]
     },
     "execution_count": 11,
     "metadata": {},
     "output_type": "execute_result"
    }
   ],
   "source": [
    "# Before removing outliers:\n",
    "len(df_jan)"
   ]
  },
  {
   "cell_type": "code",
   "execution_count": 12,
   "id": "eafd6ac5",
   "metadata": {},
   "outputs": [
    {
     "data": {
      "text/plain": [
       "2421440"
      ]
     },
     "execution_count": 12,
     "metadata": {},
     "output_type": "execute_result"
    }
   ],
   "source": [
    "# Keeping only the records where the duration was between 1 and 60 minutes (inclusive).\n",
    "\n",
    "df_jan = df_jan[(df_jan.duration >= 1) & (df_jan.duration <= 60)]\n",
    "\n",
    "# after removing outliers:\n",
    "len(df_jan)"
   ]
  },
  {
   "cell_type": "code",
   "execution_count": 13,
   "id": "a53b0987",
   "metadata": {},
   "outputs": [
    {
     "name": "stdout",
     "output_type": "stream",
     "text": [
      "98.27547930522405\n"
     ]
    }
   ],
   "source": [
    "# Fraction of records after dropping outliers:\n",
    "\n",
    "print((2421440 / 2463931) * 100)"
   ]
  },
  {
   "cell_type": "markdown",
   "id": "232875ce",
   "metadata": {},
   "source": [
    "# Categorical & Numerical Variables:"
   ]
  },
  {
   "cell_type": "code",
   "execution_count": 14,
   "id": "5740c048",
   "metadata": {},
   "outputs": [],
   "source": [
    "categorical = ['PULocationID', 'DOLocationID']\n",
    "\n",
    "numerical = ['trip_distance']\n",
    "\n",
    "df_jan[categorical] = df_jan[categorical].astype(str)"
   ]
  },
  {
   "cell_type": "markdown",
   "id": "ad37ff40",
   "metadata": {},
   "source": [
    "# Encoding"
   ]
  },
  {
   "cell_type": "code",
   "execution_count": 15,
   "id": "50512c89",
   "metadata": {},
   "outputs": [],
   "source": [
    "train_dicts = df_jan[categorical].to_dict(orient='records')"
   ]
  },
  {
   "cell_type": "code",
   "execution_count": 16,
   "id": "ca87940b",
   "metadata": {},
   "outputs": [],
   "source": [
    "dv = DictVectorizer()\n",
    "\n",
    "X_train = dv.fit_transform(train_dicts)\n",
    "\n",
    "y_train = df_jan['duration'].values"
   ]
  },
  {
   "cell_type": "markdown",
   "id": "ca761a2f",
   "metadata": {},
   "source": [
    "# Question 4: Dimensionality after OHE"
   ]
  },
  {
   "cell_type": "code",
   "execution_count": 23,
   "id": "dfe7f7e6",
   "metadata": {},
   "outputs": [
    {
     "data": {
      "text/plain": [
       "2"
      ]
     },
     "execution_count": 23,
     "metadata": {},
     "output_type": "execute_result"
    }
   ],
   "source": [
    "# Dimension of the matrix\n",
    "\n",
    "X_train.ndim"
   ]
  },
  {
   "cell_type": "code",
   "execution_count": 18,
   "id": "0f1e90bc",
   "metadata": {},
   "outputs": [
    {
     "data": {
      "text/html": [
       "<style>#sk-container-id-1 {color: black;background-color: white;}#sk-container-id-1 pre{padding: 0;}#sk-container-id-1 div.sk-toggleable {background-color: white;}#sk-container-id-1 label.sk-toggleable__label {cursor: pointer;display: block;width: 100%;margin-bottom: 0;padding: 0.3em;box-sizing: border-box;text-align: center;}#sk-container-id-1 label.sk-toggleable__label-arrow:before {content: \"▸\";float: left;margin-right: 0.25em;color: #696969;}#sk-container-id-1 label.sk-toggleable__label-arrow:hover:before {color: black;}#sk-container-id-1 div.sk-estimator:hover label.sk-toggleable__label-arrow:before {color: black;}#sk-container-id-1 div.sk-toggleable__content {max-height: 0;max-width: 0;overflow: hidden;text-align: left;background-color: #f0f8ff;}#sk-container-id-1 div.sk-toggleable__content pre {margin: 0.2em;color: black;border-radius: 0.25em;background-color: #f0f8ff;}#sk-container-id-1 input.sk-toggleable__control:checked~div.sk-toggleable__content {max-height: 200px;max-width: 100%;overflow: auto;}#sk-container-id-1 input.sk-toggleable__control:checked~label.sk-toggleable__label-arrow:before {content: \"▾\";}#sk-container-id-1 div.sk-estimator input.sk-toggleable__control:checked~label.sk-toggleable__label {background-color: #d4ebff;}#sk-container-id-1 div.sk-label input.sk-toggleable__control:checked~label.sk-toggleable__label {background-color: #d4ebff;}#sk-container-id-1 input.sk-hidden--visually {border: 0;clip: rect(1px 1px 1px 1px);clip: rect(1px, 1px, 1px, 1px);height: 1px;margin: -1px;overflow: hidden;padding: 0;position: absolute;width: 1px;}#sk-container-id-1 div.sk-estimator {font-family: monospace;background-color: #f0f8ff;border: 1px dotted black;border-radius: 0.25em;box-sizing: border-box;margin-bottom: 0.5em;}#sk-container-id-1 div.sk-estimator:hover {background-color: #d4ebff;}#sk-container-id-1 div.sk-parallel-item::after {content: \"\";width: 100%;border-bottom: 1px solid gray;flex-grow: 1;}#sk-container-id-1 div.sk-label:hover label.sk-toggleable__label {background-color: #d4ebff;}#sk-container-id-1 div.sk-serial::before {content: \"\";position: absolute;border-left: 1px solid gray;box-sizing: border-box;top: 0;bottom: 0;left: 50%;z-index: 0;}#sk-container-id-1 div.sk-serial {display: flex;flex-direction: column;align-items: center;background-color: white;padding-right: 0.2em;padding-left: 0.2em;position: relative;}#sk-container-id-1 div.sk-item {position: relative;z-index: 1;}#sk-container-id-1 div.sk-parallel {display: flex;align-items: stretch;justify-content: center;background-color: white;position: relative;}#sk-container-id-1 div.sk-item::before, #sk-container-id-1 div.sk-parallel-item::before {content: \"\";position: absolute;border-left: 1px solid gray;box-sizing: border-box;top: 0;bottom: 0;left: 50%;z-index: -1;}#sk-container-id-1 div.sk-parallel-item {display: flex;flex-direction: column;z-index: 1;position: relative;background-color: white;}#sk-container-id-1 div.sk-parallel-item:first-child::after {align-self: flex-end;width: 50%;}#sk-container-id-1 div.sk-parallel-item:last-child::after {align-self: flex-start;width: 50%;}#sk-container-id-1 div.sk-parallel-item:only-child::after {width: 0;}#sk-container-id-1 div.sk-dashed-wrapped {border: 1px dashed gray;margin: 0 0.4em 0.5em 0.4em;box-sizing: border-box;padding-bottom: 0.4em;background-color: white;}#sk-container-id-1 div.sk-label label {font-family: monospace;font-weight: bold;display: inline-block;line-height: 1.2em;}#sk-container-id-1 div.sk-label-container {text-align: center;}#sk-container-id-1 div.sk-container {/* jupyter's `normalize.less` sets `[hidden] { display: none; }` but bootstrap.min.css set `[hidden] { display: none !important; }` so we also need the `!important` here to be able to override the default hidden behavior on the sphinx rendered scikit-learn.org. See: https://github.com/scikit-learn/scikit-learn/issues/21755 */display: inline-block !important;position: relative;}#sk-container-id-1 div.sk-text-repr-fallback {display: none;}</style><div id=\"sk-container-id-1\" class=\"sk-top-container\"><div class=\"sk-text-repr-fallback\"><pre>LinearRegression()</pre><b>In a Jupyter environment, please rerun this cell to show the HTML representation or trust the notebook. <br />On GitHub, the HTML representation is unable to render, please try loading this page with nbviewer.org.</b></div><div class=\"sk-container\" hidden><div class=\"sk-item\"><div class=\"sk-estimator sk-toggleable\"><input class=\"sk-toggleable__control sk-hidden--visually\" id=\"sk-estimator-id-1\" type=\"checkbox\" checked><label for=\"sk-estimator-id-1\" class=\"sk-toggleable__label sk-toggleable__label-arrow\">LinearRegression</label><div class=\"sk-toggleable__content\"><pre>LinearRegression()</pre></div></div></div></div></div>"
      ],
      "text/plain": [
       "LinearRegression()"
      ]
     },
     "execution_count": 18,
     "metadata": {},
     "output_type": "execute_result"
    }
   ],
   "source": [
    "# Building Linear Regression for base model\n",
    "\n",
    "lr = LinearRegression()\n",
    "\n",
    "lr.fit(X_train, y_train)"
   ]
  },
  {
   "cell_type": "code",
   "execution_count": 19,
   "id": "c90fa620",
   "metadata": {},
   "outputs": [],
   "source": [
    "# Evaluating on training data\n",
    "\n",
    "y_pred = lr.predict(X_train)"
   ]
  },
  {
   "cell_type": "code",
   "execution_count": 20,
   "id": "a902f1c9",
   "metadata": {},
   "outputs": [
    {
     "data": {
      "text/plain": [
       "<matplotlib.legend.Legend at 0x7fb8ba8b6340>"
      ]
     },
     "execution_count": 20,
     "metadata": {},
     "output_type": "execute_result"
    },
    {
     "data": {
      "image/png": "[encoded data removed]",
      "text/plain": [
       "<Figure size 640x480 with 1 Axes>"
      ]
     },
     "metadata": {},
     "output_type": "display_data"
    }
   ],
   "source": [
    "sns.kdeplot(y_pred, label='prediction')\n",
    "sns.kdeplot(y_train, label='actual')\n",
    "\n",
    "plt.legend()"
   ]
  },
  {
   "cell_type": "markdown",
   "id": "2cdc2042",
   "metadata": {},
   "source": [
    "# Question 6: RMSE on train"
   ]
  },
  {
   "cell_type": "code",
   "execution_count": 24,
   "id": "0c078075",
   "metadata": {},
   "outputs": [
    {
     "data": {
      "text/plain": [
       "6.986190769549357"
      ]
     },
     "execution_count": 24,
     "metadata": {},
     "output_type": "execute_result"
    }
   ],
   "source": [
    "mean_squared_error(y_train, y_pred, squared=False)"
   ]
  },
  {
   "cell_type": "markdown",
   "id": "92926362",
   "metadata": {},
   "source": [
    "# Evaluating on validation data (February)"
   ]
  },
  {
   "cell_type": "code",
   "execution_count": 34,
   "id": "ddbc76ee",
   "metadata": {},
   "outputs": [],
   "source": [
    "# create a new column 'duration' in minutes\n",
    "df_feb['duration'] = df_feb.tpep_dropoff_datetime - df_feb.tpep_pickup_datetime\n",
    "\n",
    "# convert duration to seconds\n",
    "df_feb.duration = df_feb.duration.apply(lambda x: x.total_seconds() / 60)\n",
    "\n",
    "# convert categorical columns to strings\n",
    "df_feb[categorical] = df_feb[categorical].astype(str)\n",
    "\n",
    "# remove outliers by clipping duration between 1 and 60 mins\n",
    "df_feb = df_feb[(df_feb.duration >= 1) & (df_feb.duration <= 60)]\n",
    "\n",
    "# Instantiate a dictionary vectorizer\n",
    "dv = DictVectorizer()\n",
    "\n",
    "train_dicts = df_jan[categorical].to_dict(orient='records')\n",
    "X_train = dv.fit_transform(train_dicts)\n",
    "\n",
    "# turn the categorical columns into a list of dictionaries\n",
    "val_dicts = df_feb[categorical].to_dict(orient='records')\n",
    "\n",
    "X_val = dv.transform(val_dicts)\n",
    "\n",
    "# define target variable and assign to y_val\n",
    "\n",
    "y_val = df_feb['duration'].values\n",
    "\n",
    "# Get predictions for the VALIDATION set\n",
    "y_pred = lr.predict(X_val)"
   ]
  },
  {
   "cell_type": "markdown",
   "id": "191f057d",
   "metadata": {},
   "source": [
    "# Question 6: RMSE on validation"
   ]
  },
  {
   "cell_type": "code",
   "execution_count": 35,
   "id": "61fff5f6",
   "metadata": {},
   "outputs": [
    {
     "data": {
      "text/plain": [
       "7.786407870395467"
      ]
     },
     "execution_count": 35,
     "metadata": {},
     "output_type": "execute_result"
    }
   ],
   "source": [
    "mean_squared_error(y_val, y_pred, squared=False) "
   ]
  }
 ],
 "metadata": {
  "kernelspec": {
   "display_name": "Python (3.9)",
   "language": "python",
   "name": "python3.9"
  },
  "language_info": {
   "codemirror_mode": {
    "name": "ipython",
    "version": 3
   },
   "file_extension": ".py",
   "mimetype": "text/x-python",
   "name": "python",
   "nbconvert_exporter": "python",
   "pygments_lexer": "ipython3",
   "version": "3.9.7"
  }
 },
 "nbformat": 4,
 "nbformat_minor": 5
}
